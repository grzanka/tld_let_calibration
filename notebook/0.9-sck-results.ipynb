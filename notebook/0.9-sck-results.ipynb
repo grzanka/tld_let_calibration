{
 "cells": [
  {
   "attachments": {},
   "cell_type": "markdown",
   "metadata": {},
   "source": [
    "# Imports"
   ]
  },
  {
   "cell_type": "code",
   "execution_count": 2,
   "metadata": {},
   "outputs": [],
   "source": [
    "# install additional packages if running on Emscripten\n",
    "import platform\n",
    "\n",
    "notebook_platform = platform.uname()\n",
    "if notebook_platform.system == \"Emscripten\":\n",
    "    import piplite\n",
    "\n",
    "    await piplite.install([\"openpyxl\", \"seaborn\"])"
   ]
  },
  {
   "cell_type": "code",
   "execution_count": 3,
   "metadata": {},
   "outputs": [],
   "source": [
    "from enum import Enum\n",
    "import pathlib\n",
    "import pandas as pd\n",
    "import seaborn as sns\n",
    "import matplotlib.pyplot as plt\n",
    "from lmfit.models import LinearModel\n",
    "import numpy as np\n",
    "\n",
    "sns.set_style(\"ticks\", {\"axes.grid\": True})"
   ]
  },
  {
   "attachments": {},
   "cell_type": "markdown",
   "metadata": {},
   "source": [
    "# Data"
   ]
  },
  {
   "cell_type": "code",
   "execution_count": 4,
   "metadata": {},
   "outputs": [
    {
     "data": {
      "text/plain": [
       "WindowsPath('c:/Users/Legion/workspace/tld_let_calibration/data')"
      ]
     },
     "execution_count": 4,
     "metadata": {},
     "output_type": "execute_result"
    }
   ],
   "source": [
    "this_file = pathlib.Path().absolute()\n",
    "data_dir = this_file.parent / \"data\"\n",
    "data_dir"
   ]
  },
  {
   "attachments": {},
   "cell_type": "markdown",
   "metadata": {},
   "source": [
    "## Calibrations"
   ]
  },
  {
   "cell_type": "code",
   "execution_count": 5,
   "metadata": {},
   "outputs": [
    {
     "data": {
      "text/html": [
       "<div>\n",
       "<style scoped>\n",
       "    .dataframe tbody tr th:only-of-type {\n",
       "        vertical-align: middle;\n",
       "    }\n",
       "\n",
       "    .dataframe tbody tr th {\n",
       "        vertical-align: top;\n",
       "    }\n",
       "\n",
       "    .dataframe thead th {\n",
       "        text-align: right;\n",
       "    }\n",
       "</style>\n",
       "<table border=\"1\" class=\"dataframe\">\n",
       "  <thead>\n",
       "    <tr style=\"text-align: right;\">\n",
       "      <th></th>\n",
       "      <th>exp</th>\n",
       "      <th>det_id</th>\n",
       "      <th>ratio_signal</th>\n",
       "    </tr>\n",
       "  </thead>\n",
       "  <tbody>\n",
       "    <tr>\n",
       "      <th>0</th>\n",
       "      <td>2a</td>\n",
       "      <td>9</td>\n",
       "      <td>1.103115</td>\n",
       "    </tr>\n",
       "    <tr>\n",
       "      <th>1</th>\n",
       "      <td>2a</td>\n",
       "      <td>16</td>\n",
       "      <td>1.026642</td>\n",
       "    </tr>\n",
       "    <tr>\n",
       "      <th>2</th>\n",
       "      <td>2a</td>\n",
       "      <td>15</td>\n",
       "      <td>1.057581</td>\n",
       "    </tr>\n",
       "    <tr>\n",
       "      <th>3</th>\n",
       "      <td>2a</td>\n",
       "      <td>14</td>\n",
       "      <td>1.091050</td>\n",
       "    </tr>\n",
       "    <tr>\n",
       "      <th>4</th>\n",
       "      <td>2a</td>\n",
       "      <td>13</td>\n",
       "      <td>1.086787</td>\n",
       "    </tr>\n",
       "    <tr>\n",
       "      <th>5</th>\n",
       "      <td>2a</td>\n",
       "      <td>12</td>\n",
       "      <td>0.958859</td>\n",
       "    </tr>\n",
       "    <tr>\n",
       "      <th>6</th>\n",
       "      <td>2a</td>\n",
       "      <td>11</td>\n",
       "      <td>1.013075</td>\n",
       "    </tr>\n",
       "    <tr>\n",
       "      <th>7</th>\n",
       "      <td>2a</td>\n",
       "      <td>10</td>\n",
       "      <td>1.162400</td>\n",
       "    </tr>\n",
       "    <tr>\n",
       "      <th>8</th>\n",
       "      <td>1a</td>\n",
       "      <td>8</td>\n",
       "      <td>1.334733</td>\n",
       "    </tr>\n",
       "    <tr>\n",
       "      <th>9</th>\n",
       "      <td>1a</td>\n",
       "      <td>7</td>\n",
       "      <td>1.269311</td>\n",
       "    </tr>\n",
       "    <tr>\n",
       "      <th>10</th>\n",
       "      <td>1a</td>\n",
       "      <td>6</td>\n",
       "      <td>1.237253</td>\n",
       "    </tr>\n",
       "    <tr>\n",
       "      <th>11</th>\n",
       "      <td>1a</td>\n",
       "      <td>5</td>\n",
       "      <td>1.199881</td>\n",
       "    </tr>\n",
       "    <tr>\n",
       "      <th>12</th>\n",
       "      <td>1a</td>\n",
       "      <td>4</td>\n",
       "      <td>1.208417</td>\n",
       "    </tr>\n",
       "    <tr>\n",
       "      <th>13</th>\n",
       "      <td>1a</td>\n",
       "      <td>3</td>\n",
       "      <td>1.186517</td>\n",
       "    </tr>\n",
       "    <tr>\n",
       "      <th>14</th>\n",
       "      <td>1a</td>\n",
       "      <td>1</td>\n",
       "      <td>1.255478</td>\n",
       "    </tr>\n",
       "    <tr>\n",
       "      <th>15</th>\n",
       "      <td>1b</td>\n",
       "      <td>41</td>\n",
       "      <td>1.819608</td>\n",
       "    </tr>\n",
       "    <tr>\n",
       "      <th>16</th>\n",
       "      <td>1b</td>\n",
       "      <td>48</td>\n",
       "      <td>1.548217</td>\n",
       "    </tr>\n",
       "    <tr>\n",
       "      <th>17</th>\n",
       "      <td>1b</td>\n",
       "      <td>47</td>\n",
       "      <td>1.837106</td>\n",
       "    </tr>\n",
       "    <tr>\n",
       "      <th>18</th>\n",
       "      <td>1b</td>\n",
       "      <td>46</td>\n",
       "      <td>1.748956</td>\n",
       "    </tr>\n",
       "    <tr>\n",
       "      <th>19</th>\n",
       "      <td>1b</td>\n",
       "      <td>45</td>\n",
       "      <td>1.765734</td>\n",
       "    </tr>\n",
       "    <tr>\n",
       "      <th>20</th>\n",
       "      <td>1b</td>\n",
       "      <td>44</td>\n",
       "      <td>1.694638</td>\n",
       "    </tr>\n",
       "    <tr>\n",
       "      <th>21</th>\n",
       "      <td>1b</td>\n",
       "      <td>43</td>\n",
       "      <td>1.839396</td>\n",
       "    </tr>\n",
       "    <tr>\n",
       "      <th>22</th>\n",
       "      <td>1b</td>\n",
       "      <td>42</td>\n",
       "      <td>1.865923</td>\n",
       "    </tr>\n",
       "    <tr>\n",
       "      <th>23</th>\n",
       "      <td>1c</td>\n",
       "      <td>25</td>\n",
       "      <td>1.822136</td>\n",
       "    </tr>\n",
       "    <tr>\n",
       "      <th>24</th>\n",
       "      <td>1c</td>\n",
       "      <td>32</td>\n",
       "      <td>1.925632</td>\n",
       "    </tr>\n",
       "    <tr>\n",
       "      <th>25</th>\n",
       "      <td>1c</td>\n",
       "      <td>31</td>\n",
       "      <td>1.818759</td>\n",
       "    </tr>\n",
       "    <tr>\n",
       "      <th>26</th>\n",
       "      <td>1c</td>\n",
       "      <td>30</td>\n",
       "      <td>1.864661</td>\n",
       "    </tr>\n",
       "    <tr>\n",
       "      <th>27</th>\n",
       "      <td>1c</td>\n",
       "      <td>29</td>\n",
       "      <td>1.853912</td>\n",
       "    </tr>\n",
       "    <tr>\n",
       "      <th>28</th>\n",
       "      <td>1c</td>\n",
       "      <td>28</td>\n",
       "      <td>1.755467</td>\n",
       "    </tr>\n",
       "    <tr>\n",
       "      <th>29</th>\n",
       "      <td>1c</td>\n",
       "      <td>27</td>\n",
       "      <td>1.766209</td>\n",
       "    </tr>\n",
       "    <tr>\n",
       "      <th>30</th>\n",
       "      <td>1c</td>\n",
       "      <td>26</td>\n",
       "      <td>1.839410</td>\n",
       "    </tr>\n",
       "  </tbody>\n",
       "</table>\n",
       "</div>"
      ],
      "text/plain": [
       "   exp  det_id  ratio_signal\n",
       "0   2a       9      1.103115\n",
       "1   2a      16      1.026642\n",
       "2   2a      15      1.057581\n",
       "3   2a      14      1.091050\n",
       "4   2a      13      1.086787\n",
       "5   2a      12      0.958859\n",
       "6   2a      11      1.013075\n",
       "7   2a      10      1.162400\n",
       "8   1a       8      1.334733\n",
       "9   1a       7      1.269311\n",
       "10  1a       6      1.237253\n",
       "11  1a       5      1.199881\n",
       "12  1a       4      1.208417\n",
       "13  1a       3      1.186517\n",
       "14  1a       1      1.255478\n",
       "15  1b      41      1.819608\n",
       "16  1b      48      1.548217\n",
       "17  1b      47      1.837106\n",
       "18  1b      46      1.748956\n",
       "19  1b      45      1.765734\n",
       "20  1b      44      1.694638\n",
       "21  1b      43      1.839396\n",
       "22  1b      42      1.865923\n",
       "23  1c      25      1.822136\n",
       "24  1c      32      1.925632\n",
       "25  1c      31      1.818759\n",
       "26  1c      30      1.864661\n",
       "27  1c      29      1.853912\n",
       "28  1c      28      1.755467\n",
       "29  1c      27      1.766209\n",
       "30  1c      26      1.839410"
      ]
     },
     "execution_count": 5,
     "metadata": {},
     "output_type": "execute_result"
    }
   ],
   "source": [
    "df_dcpt = pd.read_csv(data_dir / \"interim\" / \"ratio_signal.csv\")\n",
    "df_dcpt"
   ]
  },
  {
   "cell_type": "code",
   "execution_count": 6,
   "metadata": {},
   "outputs": [
    {
     "data": {
      "text/plain": [
       "<seaborn.axisgrid.FacetGrid at 0x1da87c69210>"
      ]
     },
     "execution_count": 6,
     "metadata": {},
     "output_type": "execute_result"
    },
    {
     "data": {
      "image/png": "[encoded data removed]",
      "text/plain": [
       "<Figure size 500x500 with 1 Axes>"
      ]
     },
     "metadata": {},
     "output_type": "display_data"
    }
   ],
   "source": [
    "sns.relplot(data=df_dcpt, x=\"exp\", y=\"ratio_signal\")"
   ]
  },
  {
   "cell_type": "code",
   "execution_count": 8,
   "metadata": {},
   "outputs": [
    {
     "data": {
      "text/html": [
       "<div>\n",
       "<style scoped>\n",
       "    .dataframe tbody tr th:only-of-type {\n",
       "        vertical-align: middle;\n",
       "    }\n",
       "\n",
       "    .dataframe tbody tr th {\n",
       "        vertical-align: top;\n",
       "    }\n",
       "\n",
       "    .dataframe thead th {\n",
       "        text-align: right;\n",
       "    }\n",
       "</style>\n",
       "<table border=\"1\" class=\"dataframe\">\n",
       "  <thead>\n",
       "    <tr style=\"text-align: right;\">\n",
       "      <th></th>\n",
       "      <th>Plan</th>\n",
       "      <th>MTS-7/MCP-7</th>\n",
       "      <th>MTS-7/MCP-7_std</th>\n",
       "      <th>fLET_protons_keV_um_mean</th>\n",
       "      <th>fLET_protons_keV_um_lower</th>\n",
       "      <th>fLET_protons_keV_um_upper</th>\n",
       "      <th>dLET_protons_keV_um_mean</th>\n",
       "      <th>dLET_protons_keV_um_lower</th>\n",
       "      <th>dLET_protons_keV_um_upper</th>\n",
       "      <th>fLET_all_keV_um_mean</th>\n",
       "      <th>fLET_all_keV_um_lower</th>\n",
       "      <th>fLET_all_keV_um_upper</th>\n",
       "      <th>dLET_all_keV_um_mean</th>\n",
       "      <th>dLET_all_keV_um_lower</th>\n",
       "      <th>dLET_all_keV_um_upper</th>\n",
       "    </tr>\n",
       "  </thead>\n",
       "  <tbody>\n",
       "    <tr>\n",
       "      <th>0</th>\n",
       "      <td>2a</td>\n",
       "      <td>0.994471</td>\n",
       "      <td>0.111556</td>\n",
       "      <td>0.414933</td>\n",
       "      <td>0.230143</td>\n",
       "      <td>0.900774</td>\n",
       "      <td>0.534686</td>\n",
       "      <td>0.465155</td>\n",
       "      <td>0.970091</td>\n",
       "      <td>0.431319</td>\n",
       "      <td>0.253011</td>\n",
       "      <td>0.916905</td>\n",
       "      <td>7.174233</td>\n",
       "      <td>4.499999</td>\n",
       "      <td>12.506658</td>\n",
       "    </tr>\n",
       "    <tr>\n",
       "      <th>1</th>\n",
       "      <td>1a</td>\n",
       "      <td>1.173488</td>\n",
       "      <td>0.153808</td>\n",
       "      <td>1.308262</td>\n",
       "      <td>0.505755</td>\n",
       "      <td>2.141163</td>\n",
       "      <td>1.366723</td>\n",
       "      <td>0.607889</td>\n",
       "      <td>2.189788</td>\n",
       "      <td>1.325618</td>\n",
       "      <td>0.521495</td>\n",
       "      <td>2.162188</td>\n",
       "      <td>4.120295</td>\n",
       "      <td>4.149715</td>\n",
       "      <td>6.125918</td>\n",
       "    </tr>\n",
       "    <tr>\n",
       "      <th>2</th>\n",
       "      <td>1b</td>\n",
       "      <td>1.673947</td>\n",
       "      <td>0.203877</td>\n",
       "      <td>4.408165</td>\n",
       "      <td>3.275391</td>\n",
       "      <td>5.421574</td>\n",
       "      <td>4.569571</td>\n",
       "      <td>3.328760</td>\n",
       "      <td>5.923428</td>\n",
       "      <td>4.426321</td>\n",
       "      <td>3.298399</td>\n",
       "      <td>5.436024</td>\n",
       "      <td>5.314696</td>\n",
       "      <td>4.658748</td>\n",
       "      <td>6.395762</td>\n",
       "    </tr>\n",
       "    <tr>\n",
       "      <th>3</th>\n",
       "      <td>1c</td>\n",
       "      <td>1.914006</td>\n",
       "      <td>0.334864</td>\n",
       "      <td>5.615799</td>\n",
       "      <td>3.918560</td>\n",
       "      <td>8.206284</td>\n",
       "      <td>6.227678</td>\n",
       "      <td>4.016166</td>\n",
       "      <td>12.866289</td>\n",
       "      <td>5.629722</td>\n",
       "      <td>3.938963</td>\n",
       "      <td>8.215390</td>\n",
       "      <td>6.665550</td>\n",
       "      <td>4.984218</td>\n",
       "      <td>13.054751</td>\n",
       "    </tr>\n",
       "  </tbody>\n",
       "</table>\n",
       "</div>"
      ],
      "text/plain": [
       "  Plan  MTS-7/MCP-7  MTS-7/MCP-7_std  fLET_protons_keV_um_mean  \\\n",
       "0   2a     0.994471         0.111556                  0.414933   \n",
       "1   1a     1.173488         0.153808                  1.308262   \n",
       "2   1b     1.673947         0.203877                  4.408165   \n",
       "3   1c     1.914006         0.334864                  5.615799   \n",
       "\n",
       "   fLET_protons_keV_um_lower  fLET_protons_keV_um_upper  \\\n",
       "0                   0.230143                   0.900774   \n",
       "1                   0.505755                   2.141163   \n",
       "2                   3.275391                   5.421574   \n",
       "3                   3.918560                   8.206284   \n",
       "\n",
       "   dLET_protons_keV_um_mean  dLET_protons_keV_um_lower  \\\n",
       "0                  0.534686                   0.465155   \n",
       "1                  1.366723                   0.607889   \n",
       "2                  4.569571                   3.328760   \n",
       "3                  6.227678                   4.016166   \n",
       "\n",
       "   dLET_protons_keV_um_upper  fLET_all_keV_um_mean  fLET_all_keV_um_lower  \\\n",
       "0                   0.970091              0.431319               0.253011   \n",
       "1                   2.189788              1.325618               0.521495   \n",
       "2                   5.923428              4.426321               3.298399   \n",
       "3                  12.866289              5.629722               3.938963   \n",
       "\n",
       "   fLET_all_keV_um_upper  dLET_all_keV_um_mean  dLET_all_keV_um_lower  \\\n",
       "0               0.916905              7.174233               4.499999   \n",
       "1               2.162188              4.120295               4.149715   \n",
       "2               5.436024              5.314696               4.658748   \n",
       "3               8.215390              6.665550               4.984218   \n",
       "\n",
       "   dLET_all_keV_um_upper  \n",
       "0              12.506658  \n",
       "1               6.125918  \n",
       "2               6.395762  \n",
       "3              13.054751  "
      ]
     },
     "execution_count": 8,
     "metadata": {},
     "output_type": "execute_result"
    }
   ],
   "source": [
    "df_sck = pd.read_excel(data_dir / \"raw\" / \"parisi_calibration\" / \"TLD_results.xlsx\", sheet_name=\"Tabelle1\")\n",
    "df_sck"
   ]
  },
  {
   "cell_type": "code",
   "execution_count": 22,
   "metadata": {},
   "outputs": [
    {
     "name": "stderr",
     "output_type": "stream",
     "text": [
      "No artists with labels found to put in legend.  Note that artists whose label start with an underscore are ignored when legend() is called with no argument.\n"
     ]
    },
    {
     "data": {
      "text/plain": [
       "<matplotlib.legend.Legend at 0x1da8c494490>"
      ]
     },
     "execution_count": 22,
     "metadata": {},
     "output_type": "execute_result"
    },
    {
     "data": {
      "image/png": "[encoded data removed]",
      "text/plain": [
       "<Figure size 640x480 with 1 Axes>"
      ]
     },
     "metadata": {},
     "output_type": "display_data"
    }
   ],
   "source": [
    "fig, ax = plt.subplots()\n",
    "plt.errorbar(df_sck[\"Plan\"], df_sck[\"MTS-7/MCP-7\"], yerr=df_sck[\"MTS-7/MCP-7_std\"], fmt=\"_\", color=\"green\")\n",
    "plt.errorbar(df_dcpt[\"exp\"], df_dcpt[\"ratio_signal\"], yerr=df_dcpt[\"ratio_signal\"].std(), fmt=\"_\", color=\"blue\")\n",
    "# plt.scatter(df_dcpt[\"exp\"], df_dcpt[\"ratio_signal\"], marker=\"o\")\n",
    "# sns.scatterplot(data=df_dcpt, x=\"exp\", y=\"ratio_signal\", ax=ax, label=\"IFJ\")\n",
    "# sns.scatterplot(data=df_sck, x=\"Plan\", y=\"MTS-7/MCP-7\", ax=ax, label=\"SCK mean\")\n",
    "ax.legend()"
   ]
  },
  {
   "cell_type": "code",
   "execution_count": 32,
   "metadata": {},
   "outputs": [
    {
     "data": {
      "text/plain": [
       "<matplotlib.legend.Legend at 0x1da8f6ceb50>"
      ]
     },
     "execution_count": 32,
     "metadata": {},
     "output_type": "execute_result"
    },
    {
     "data": {
      "image/png": "[encoded data removed]",
      "text/plain": [
       "<Figure size 640x480 with 1 Axes>"
      ]
     },
     "metadata": {},
     "output_type": "display_data"
    }
   ],
   "source": [
    "fig, ax = plt.subplots()\n",
    "\n",
    "# Create a mapping between textual categories and numerical values\n",
    "category_mapping = {category: i for i, category in enumerate(df_sck[\"Plan\"].unique())}\n",
    "\n",
    "# Convert textual x-values to numerical values for both datasets\n",
    "df_sck[\"Plan_numeric\"] = df_sck[\"Plan\"].map(category_mapping)\n",
    "df_dcpt[\"exp_numeric\"] = df_dcpt[\"exp\"].map(category_mapping)\n",
    "\n",
    "# Plot the first dataset\n",
    "plt.errorbar(\n",
    "    df_sck[\"Plan_numeric\"], df_sck[\"MTS-7/MCP-7\"], yerr=df_sck[\"MTS-7/MCP-7_std\"], fmt=\"_\", color=\"green\", label=\"SCK\"\n",
    ")\n",
    "\n",
    "# Add an offset to the x-values of the second dataset\n",
    "offset = 0.1  # Adjust this value based on your preference\n",
    "df_dcpt[\"exp_shifted\"] = df_dcpt[\"exp_numeric\"] + offset\n",
    "\n",
    "# Plot the second dataset with the adjusted x-values\n",
    "plt.errorbar(\n",
    "    df_dcpt[\"exp_shifted\"].unique(),\n",
    "    df_dcpt.groupby(\"exp_shifted\")[\"ratio_signal\"].mean(),\n",
    "    yerr=df_dcpt.groupby(\"exp_shifted\")[\"ratio_signal\"].std(),\n",
    "    fmt=\"_\",\n",
    "    color=\"blue\",\n",
    "    label=\"IFJ\",\n",
    ")\n",
    "\n",
    "# Use the original textual categories for x-axis ticks\n",
    "plt.xticks(np.arange(len(category_mapping)), df_sck[\"Plan\"].unique())\n",
    "\n",
    "plt.ylabel(\"Ratio signal\")\n",
    "\n",
    "plt.legend()"
   ]
  },
  {
   "cell_type": "code",
   "execution_count": 34,
   "metadata": {},
   "outputs": [
    {
     "data": {
      "text/plain": [
       "<matplotlib.legend.Legend at 0x1da8fc892d0>"
      ]
     },
     "execution_count": 34,
     "metadata": {},
     "output_type": "execute_result"
    },
    {
     "data": {
      "image/png": "[encoded data removed]",
      "text/plain": [
       "<Figure size 640x480 with 1 Axes>"
      ]
     },
     "metadata": {},
     "output_type": "display_data"
    }
   ],
   "source": [
    "fig, ax = plt.subplots()\n",
    "\n",
    "# Create a mapping between textual categories and numerical values\n",
    "category_mapping = {category: i for i, category in enumerate(df_sck[\"Plan\"].unique())}\n",
    "\n",
    "# Convert textual x-values to numerical values for both datasets\n",
    "df_sck[\"Plan_numeric\"] = df_sck[\"Plan\"].map(category_mapping)\n",
    "df_dcpt[\"exp_numeric\"] = df_dcpt[\"exp\"].map(category_mapping)\n",
    "\n",
    "# Plot the first dataset\n",
    "plt.errorbar(\n",
    "    df_sck[\"Plan_numeric\"], df_sck[\"MTS-7/MCP-7\"], yerr=df_sck[\"MTS-7/MCP-7_std\"], fmt=\"_\", color=\"green\", label=\"SCK\"\n",
    ")\n",
    "\n",
    "# Add an offset to the x-values of the second dataset\n",
    "offset = 0.1  # Adjust this value based on your preference\n",
    "df_dcpt[\"exp_shifted\"] = df_dcpt[\"exp_numeric\"] + offset\n",
    "\n",
    "# Plot the second dataset with the adjusted x-values\n",
    "plt.scatter(df_dcpt[\"exp_shifted\"], df_dcpt[\"ratio_signal\"], marker=\".\", color=\"blue\", label=\"IFJ\")\n",
    "\n",
    "# Use the original textual categories for x-axis ticks\n",
    "plt.xticks(np.arange(len(category_mapping)), df_sck[\"Plan\"].unique())\n",
    "\n",
    "plt.ylabel(\"Ratio signal\")\n",
    "\n",
    "plt.legend()"
   ]
  },
  {
   "cell_type": "code",
   "execution_count": null,
   "metadata": {},
   "outputs": [],
   "source": []
  }
 ],
 "metadata": {
  "kernelspec": {
   "display_name": ".venv",
   "language": "python",
   "name": "python3"
  },
  "language_info": {
   "codemirror_mode": {
    "name": "ipython",
    "version": 3
   },
   "file_extension": ".py",
   "mimetype": "text/x-python",
   "name": "python",
   "nbconvert_exporter": "python",
   "pygments_lexer": "ipython3",
   "version": "3.11.5"
  }
 },
 "nbformat": 4,
 "nbformat_minor": 2
}
