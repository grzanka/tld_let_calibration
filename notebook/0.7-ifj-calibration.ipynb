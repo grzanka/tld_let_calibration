{
 "cells": [
  {
   "attachments": {},
   "cell_type": "markdown",
   "metadata": {},
   "source": [
    "# Imports"
   ]
  },
  {
   "cell_type": "code",
   "execution_count": null,
   "metadata": {},
   "outputs": [],
   "source": [
    "# install additional packages if running on Emscripten\n",
    "import platform\n",
    "\n",
    "notebook_platform = platform.uname()\n",
    "if notebook_platform.system == \"Emscripten\":\n",
    "    import piplite\n",
    "\n",
    "    await piplite.install([\"openpyxl\", \"seaborn\"])"
   ]
  },
  {
   "cell_type": "code",
   "execution_count": null,
   "metadata": {},
   "outputs": [],
   "source": [
    "from enum import Enum\n",
    "import re\n",
    "import pathlib\n",
    "import pandas as pd\n",
    "import seaborn as sns\n",
    "import matplotlib.pyplot as plt\n",
    "import scipy\n",
    "\n",
    "sns.set_style(\"ticks\", {\"axes.grid\": True})"
   ]
  },
  {
   "attachments": {},
   "cell_type": "markdown",
   "metadata": {},
   "source": [
    "# Data"
   ]
  },
  {
   "cell_type": "code",
   "execution_count": null,
   "metadata": {},
   "outputs": [],
   "source": [
    "this_file = pathlib.Path().absolute()\n",
    "data_dir = this_file.parent / \"data\"\n",
    "data_dir"
   ]
  },
  {
   "cell_type": "code",
   "execution_count": null,
   "metadata": {},
   "outputs": [],
   "source": [
    "radiation = Enum(\"rad_type\", \"proton Co60\")\n",
    "detector = Enum(\"detector\", \"mcp mts\")"
   ]
  },
  {
   "attachments": {},
   "cell_type": "markdown",
   "metadata": {},
   "source": [
    "## Monte-Carlo results"
   ]
  },
  {
   "cell_type": "code",
   "execution_count": null,
   "metadata": {},
   "outputs": [],
   "source": [
    "df_mc = pd.read_csv(data_dir / \"interim\" / \"mc.csv\")\n",
    "df_mc"
   ]
  },
  {
   "cell_type": "code",
   "execution_count": null,
   "metadata": {},
   "outputs": [],
   "source": [
    "# Reshaping the DataFrame using melt\n",
    "df_melted = pd.melt(df_mc, id_vars=\"z_mm\", var_name=\"LET_Type\", value_name=\"LET\")\n",
    "df_melted[\"averaging\"] = df_melted[\"LET_Type\"].apply(lambda x: x[0])\n",
    "df_melted[\"particles\"] = df_melted[\"LET_Type\"].apply(lambda x: x[4:])\n",
    "df_melted = df_melted.drop(columns=\"LET_Type\")\n",
    "df_melted.LET /= 10\n",
    "df_melted"
   ]
  },
  {
   "cell_type": "code",
   "execution_count": null,
   "metadata": {},
   "outputs": [],
   "source": [
    "sns.relplot(\n",
    "    data=df_melted, x=\"z_mm\", y=\"LET\", hue=\"averaging\", col=\"particles\", kind=\"line\", facet_kws=dict(sharey=False)\n",
    ")"
   ]
  },
  {
   "cell_type": "code",
   "execution_count": null,
   "metadata": {},
   "outputs": [],
   "source": [
    "sns.relplot(\n",
    "    data=df_melted, x=\"z_mm\", y=\"LET\", hue=\"particles\", col=\"averaging\", kind=\"line\", facet_kws=dict(sharey=False)\n",
    ")"
   ]
  },
  {
   "attachments": {},
   "cell_type": "markdown",
   "metadata": {},
   "source": [
    "## Detector data"
   ]
  },
  {
   "cell_type": "code",
   "execution_count": null,
   "metadata": {},
   "outputs": [],
   "source": [
    "df_eff = pd.read_csv(data_dir / \"interim\" / \"proton_eff.csv\")\n",
    "plexi_to_water = 1.16\n",
    "shift = 1.2642\n",
    "step_pmma = 0.00329\n",
    "df_eff[\"z_mm\"] = plexi_to_water * (shift + step_pmma * df_eff.pmma_wheel_steps)\n",
    "df_eff"
   ]
  },
  {
   "cell_type": "code",
   "execution_count": null,
   "metadata": {},
   "outputs": [],
   "source": [
    "fig, ax = plt.subplots(figsize=(10, 5))\n",
    "sns.barplot(df_eff, x=\"pmma_wheel_steps\", y=\"eff\", hue=\"detector\", errorbar=None, width=0.5, ax=ax)\n",
    "ax.set_ylabel(\"Efficiency\")"
   ]
  },
  {
   "cell_type": "code",
   "execution_count": null,
   "metadata": {},
   "outputs": [],
   "source": [
    "sns.scatterplot(data=df_eff, x=\"z_mm\", y=\"eff\", hue=\"detector\", style=\"detector\")"
   ]
  },
  {
   "cell_type": "code",
   "execution_count": null,
   "metadata": {},
   "outputs": [],
   "source": [
    "df_ratio = df_eff[df_eff.detector == detector.mcp.name].copy()\n",
    "df_ratio.drop(columns=[\"energy_MeV\", \"pmma_wheel_steps\", \"detector\"], inplace=True)\n",
    "# rename eff to mcp_eff\n",
    "df_ratio.rename(columns={\"eff\": \"mcp_eff\"}, inplace=True)\n",
    "df_ratio = df_ratio.merge(\n",
    "    df_eff[df_eff.detector == detector.mts.name][[\"z_mm\", \"eff\"]], on=\"z_mm\", suffixes=(\"_mcp\", \"_mts\")\n",
    ")\n",
    "df_ratio.rename(columns={\"eff\": \"mts_eff\"}, inplace=True)\n",
    "df_ratio[\"ratio\"] = df_ratio.mts_eff / df_ratio.mcp_eff\n",
    "df_ratio"
   ]
  },
  {
   "cell_type": "code",
   "execution_count": null,
   "metadata": {},
   "outputs": [],
   "source": [
    "sns.scatterplot(data=df_ratio, x=\"z_mm\", y=\"ratio\")"
   ]
  },
  {
   "cell_type": "code",
   "execution_count": null,
   "metadata": {},
   "outputs": [],
   "source": [
    "from scipy.interpolate import griddata\n",
    "\n",
    "\n",
    "# Define function for interpolation\n",
    "def interpolate_let(df, averaging, particles, z_mm):\n",
    "    subset = df[(df[\"averaging\"] == averaging) & (df[\"particles\"] == particles)]\n",
    "\n",
    "    if len(subset) == 0:\n",
    "        raise ValueError(\"No matching rows found for the given averaging and particles.\")\n",
    "\n",
    "    points = subset[[\"z_mm\"]].values\n",
    "    values = subset[\"LET\"].values\n",
    "\n",
    "    interpolated_value = griddata(points, values, z_mm, method=\"linear\")\n",
    "\n",
    "    return interpolated_value  # Assuming you want a single value as the result\n",
    "\n",
    "\n",
    "# Example usage\n",
    "averaging_value = \"d\"\n",
    "particles_value = \"Primaries\"\n",
    "z_mm_value = 2  # Replace this with the desired z_mm value\n",
    "\n",
    "interpolated_let = interpolate_let(df_melted, averaging_value, particles_value, z_mm_value)\n",
    "print(f\"Interpolated LET value: {interpolated_let}\")"
   ]
  },
  {
   "cell_type": "code",
   "execution_count": null,
   "metadata": {},
   "outputs": [],
   "source": [
    "interpolate_let(df_melted, averaging_value, particles_value, df_eff.z_mm.values)"
   ]
  },
  {
   "cell_type": "code",
   "execution_count": null,
   "metadata": {},
   "outputs": [],
   "source": [
    "for av in df_melted.averaging.unique():\n",
    "    for part in df_melted.particles.unique():\n",
    "        df_eff[f\"{av}LET{part}\"] = interpolate_let(df_melted, av, part, df_eff.z_mm.values)\n",
    "df_eff"
   ]
  },
  {
   "cell_type": "code",
   "execution_count": null,
   "metadata": {},
   "outputs": [],
   "source": [
    "sns.scatterplot(data=df_eff, x=\"dLETProtons\", y=\"eff\", hue=\"detector\", style=\"detector\")"
   ]
  },
  {
   "cell_type": "code",
   "execution_count": null,
   "metadata": {},
   "outputs": [],
   "source": [
    "for av in df_melted.averaging.unique():\n",
    "    for part in df_melted.particles.unique():\n",
    "        df_ratio[f\"{av}LET{part}\"] = interpolate_let(df_melted, av, part, df_ratio.z_mm.values)\n",
    "df_ratio"
   ]
  },
  {
   "cell_type": "code",
   "execution_count": null,
   "metadata": {},
   "outputs": [],
   "source": [
    "sns.scatterplot(data=df_ratio, x=\"dLETProtons\", y=\"ratio\")"
   ]
  },
  {
   "cell_type": "code",
   "execution_count": null,
   "metadata": {},
   "outputs": [],
   "source": [
    "df_ratio"
   ]
  },
  {
   "cell_type": "code",
   "execution_count": null,
   "metadata": {},
   "outputs": [],
   "source": [
    "# Reshaping the DataFrame using melt\n",
    "df_ratio_melted = pd.melt(\n",
    "    df_ratio, id_vars=[\"z_mm\", \"det_id\", \"mcp_eff\", \"mts_eff\", \"ratio\"], var_name=\"LET_Type\", value_name=\"LET\"\n",
    ")\n",
    "df_ratio_melted[\"averaging\"] = df_ratio_melted[\"LET_Type\"].apply(lambda x: x[0])\n",
    "df_ratio_melted[\"particles\"] = df_ratio_melted[\"LET_Type\"].apply(lambda x: x[4:])\n",
    "df_ratio_melted = df_ratio_melted.drop(columns=\"LET_Type\")\n",
    "df_ratio_melted"
   ]
  },
  {
   "cell_type": "code",
   "execution_count": null,
   "metadata": {},
   "outputs": [],
   "source": [
    "df_ratio_melted.averaging.unique()"
   ]
  },
  {
   "cell_type": "code",
   "execution_count": null,
   "metadata": {},
   "outputs": [],
   "source": [
    "df_ratio_melted.particles.unique()"
   ]
  },
  {
   "cell_type": "code",
   "execution_count": null,
   "metadata": {},
   "outputs": [],
   "source": [
    "sns.relplot(data=df_ratio_melted, x=\"ratio\", y=\"LET\", hue=\"averaging\", col=\"particles\")"
   ]
  },
  {
   "cell_type": "code",
   "execution_count": null,
   "metadata": {},
   "outputs": [],
   "source": [
    "sns.relplot(data=df_ratio_melted, x=\"LET\", y=\"ratio\", hue=\"averaging\", col=\"particles\")"
   ]
  },
  {
   "cell_type": "code",
   "execution_count": null,
   "metadata": {},
   "outputs": [],
   "source": [
    "sns.relplot(data=df_ratio_melted, x=\"LET\", y=\"ratio\", hue=\"particles\", col=\"averaging\")"
   ]
  },
  {
   "cell_type": "code",
   "execution_count": null,
   "metadata": {},
   "outputs": [],
   "source": []
  }
 ],
 "metadata": {
  "kernelspec": {
   "display_name": ".venv",
   "language": "python",
   "name": "python3"
  },
  "language_info": {
   "codemirror_mode": {
    "name": "ipython",
    "version": 3
   },
   "file_extension": ".py",
   "mimetype": "text/x-python",
   "name": "python",
   "nbconvert_exporter": "python",
   "pygments_lexer": "ipython3",
   "version": "3.11.4"
  }
 },
 "nbformat": 4,
 "nbformat_minor": 2
}
